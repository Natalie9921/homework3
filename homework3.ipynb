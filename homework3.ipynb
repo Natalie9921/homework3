{
 "cells": [
  {
   "cell_type": "code",
   "execution_count": 1,
   "id": "6e96bda9",
   "metadata": {},
   "outputs": [
    {
     "name": "stdout",
     "output_type": "stream",
     "text": [
      "(['apple', 'cherry', 'peach', 'grape'], ['carrot', 'tomato', 'eggplant'])\n"
     ]
    }
   ],
   "source": [
    "fruits=['apple','cherry','peach','grape']\n",
    "vegetables=['carrot','tomato','eggplant']\n",
    "t=fruits,vegetables\n",
    "print(t)"
   ]
  },
  {
   "cell_type": "code",
   "execution_count": 2,
   "id": "ac65d359",
   "metadata": {},
   "outputs": [
    {
     "name": "stdout",
     "output_type": "stream",
     "text": [
      "(['apple', 'cherry', 'peach', 'grape'], ['carrot', 'tomato', 'eggplant'])\n"
     ]
    }
   ],
   "source": [
    "fruits_vegetables=t\n",
    "print(fruits_vegetables)"
   ]
  },
  {
   "cell_type": "code",
   "execution_count": 3,
   "id": "d9370f4d",
   "metadata": {},
   "outputs": [
    {
     "name": "stdout",
     "output_type": "stream",
     "text": [
      "7\n"
     ]
    }
   ],
   "source": [
    "number=len(fruits)+len(vegetables)\n",
    "print(number)"
   ]
  },
  {
   "cell_type": "code",
   "execution_count": 4,
   "id": "276935a5",
   "metadata": {},
   "outputs": [
    {
     "name": "stdout",
     "output_type": "stream",
     "text": [
      "(['apple', 'cherry', 'strawberry', 'grape'], ['carrot', 'pea', 'eggplant'])\n",
      "('button mushroom', 'pine mushroom', 'milk', 'white gourd drink', (['apple', 'cherry', 'strawberry', 'grape'], ['carrot', 'pea', 'eggplant']))\n"
     ]
    }
   ],
   "source": [
    "fruits_vegetables[0][2]='strawberry'\n",
    "fruits_vegetables[1][1]='pea'\n",
    "food_tuple='button mushroom','pine mushroom','milk','white gourd drink',fruits_vegetables\n",
    "print(fruits_vegetables)\n",
    "print(food_tuple)"
   ]
  },
  {
   "cell_type": "code",
   "execution_count": 5,
   "id": "23f0adf5",
   "metadata": {},
   "outputs": [
    {
     "name": "stdout",
     "output_type": "stream",
     "text": [
      "mushroom: ('button mushroom', 'pine mushroom')\n",
      "beverage: ('milk', 'white gourd drink')\n",
      "fruits_vegetables: (['apple', 'cherry', 'strawberry', 'grape'], ['carrot', 'pea', 'eggplant'])\n"
     ]
    }
   ],
   "source": [
    "mushroom=food_tuple[0],food_tuple[1]\n",
    "beverage=food_tuple[2],food_tuple[3]\n",
    "print('mushroom:',mushroom)\n",
    "print('beverage:',beverage)\n",
    "print('fruits_vegetables:',food_tuple[-1])"
   ]
  },
  {
   "cell_type": "code",
   "execution_count": 15,
   "id": "6e0922eb",
   "metadata": {},
   "outputs": [
    {
     "name": "stdout",
     "output_type": "stream",
     "text": [
      "['button mushroom', 'pine mushroom', 'milk', 'white gourd drink', (['apple', 'cherry', 'strawberry', 'grape'], ['carrot', 'pea', 'eggplant'])] <class 'list'>\n"
     ]
    }
   ],
   "source": [
    "food_list=list(food_tuple)\n",
    "print(food_list,type(food_list))"
   ]
  },
  {
   "cell_type": "code",
   "execution_count": 16,
   "id": "2a496653",
   "metadata": {},
   "outputs": [
    {
     "name": "stdout",
     "output_type": "stream",
     "text": [
      "['button mushroom', 'milk', 'white gourd drink', (['apple', 'cherry', 'strawberry', 'grape'], ['carrot', 'pea', 'eggplant'])]\n"
     ]
    }
   ],
   "source": [
    "del food_list[1]\n",
    "print(food_list)"
   ]
  },
  {
   "cell_type": "code",
   "execution_count": 17,
   "id": "ee26e80e",
   "metadata": {},
   "outputs": [
    {
     "name": "stdout",
     "output_type": "stream",
     "text": [
      "['button mushroom', 'milk', 'white gourd drink']\n",
      "['milk', 'white gourd drink', (['apple', 'cherry', 'strawberry', 'grape'], ['carrot', 'pea', 'eggplant'])]\n"
     ]
    }
   ],
   "source": [
    "print(food_list[0:3])\n",
    "print(food_list[-3:])"
   ]
  },
  {
   "cell_type": "code",
   "execution_count": 18,
   "id": "1ee853ee",
   "metadata": {},
   "outputs": [
    {
     "ename": "NameError",
     "evalue": "name 'food_tuple' is not defined",
     "output_type": "error",
     "traceback": [
      "\u001b[1;31m---------------------------------------------------------------------------\u001b[0m",
      "\u001b[1;31mNameError\u001b[0m                                 Traceback (most recent call last)",
      "\u001b[1;32m<ipython-input-18-2a56d3f7eb2c>\u001b[0m in \u001b[0;36m<module>\u001b[1;34m\u001b[0m\n\u001b[0;32m      1\u001b[0m \u001b[1;32mdel\u001b[0m \u001b[0mfood_tuple\u001b[0m\u001b[1;33m\u001b[0m\u001b[1;33m\u001b[0m\u001b[0m\n\u001b[1;32m----> 2\u001b[1;33m \u001b[0mprint\u001b[0m\u001b[1;33m(\u001b[0m\u001b[0mfood_tuple\u001b[0m\u001b[1;33m)\u001b[0m\u001b[1;33m\u001b[0m\u001b[1;33m\u001b[0m\u001b[0m\n\u001b[0m",
      "\u001b[1;31mNameError\u001b[0m: name 'food_tuple' is not defined"
     ]
    }
   ],
   "source": [
    "del food_tuple\n",
    "print(food_tuple)"
   ]
  },
  {
   "cell_type": "code",
   "execution_count": 19,
   "id": "420d8a0e",
   "metadata": {},
   "outputs": [
    {
     "name": "stdout",
     "output_type": "stream",
     "text": [
      "False\n",
      "True\n"
     ]
    }
   ],
   "source": [
    "asian_countries=('India','China','Singapore','Thailand','Indonesia')\n",
    "print('Finland'in asian_countries)\n",
    "print('India' in asian_countries)"
   ]
  },
  {
   "cell_type": "code",
   "execution_count": null,
   "id": "948aec27",
   "metadata": {},
   "outputs": [],
   "source": []
  }
 ],
 "metadata": {
  "kernelspec": {
   "display_name": "Python 3",
   "language": "python",
   "name": "python3"
  },
  "language_info": {
   "codemirror_mode": {
    "name": "ipython",
    "version": 3
   },
   "file_extension": ".py",
   "mimetype": "text/x-python",
   "name": "python",
   "nbconvert_exporter": "python",
   "pygments_lexer": "ipython3",
   "version": "3.8.8"
  }
 },
 "nbformat": 4,
 "nbformat_minor": 5
}
